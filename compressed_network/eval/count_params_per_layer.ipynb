{
 "cells": [
  {
   "cell_type": "code",
   "execution_count": 1,
   "metadata": {},
   "outputs": [],
   "source": [
    "import sys\n",
    "import tensorflow as tf\n",
    "import numpy as np\n"
   ]
  },
  {
   "cell_type": "code",
   "execution_count": 26,
   "metadata": {},
   "outputs": [],
   "source": [
    "ckpt_path = '/media/oanaucs/Data/awp_trained_models/alexnet_fmnist_s0.5/0.8000000000000003_pruned_model.ckpt-26978'\n",
    "num_size = 32 #bits"
   ]
  },
  {
   "cell_type": "code",
   "execution_count": 27,
   "metadata": {},
   "outputs": [],
   "source": [
    "def count_nonzero_weights(ckpt_path):\n",
    "\n",
    "    reader = tf.train.NewCheckpointReader(ckpt_path)\n",
    "\n",
    "    print('\\nCount the number of parameters in ckpt file(%s)' % ckpt_path)\n",
    "    param_map = reader.get_variable_to_shape_map()\n",
    "\n",
    "    non_zero_count = 0\n",
    "\n",
    "    for key in param_map:\n",
    "        if \"Adam\" not in key:\n",
    "            if 'weights' in key:\n",
    "                print(\"tensor_name: \", key)\n",
    "                tensor = reader.get_tensor(key)\n",
    "                non_zero_count += np.count_nonzero(tensor)\n",
    "                print(np.count_nonzero(tensor))\n",
    "    \n",
    "    return non_zero_count\n"
   ]
  },
  {
   "cell_type": "code",
   "execution_count": 28,
   "metadata": {},
   "outputs": [
    {
     "name": "stdout",
     "output_type": "stream",
     "text": [
      "\n",
      "Count the number of parameters in ckpt file(/media/oanaucs/Data/awp_trained_models/alexnet_fmnist_s0.5/0.8000000000000003_pruned_model.ckpt-26978)\n",
      "tensor_name:  fc7/weights\n",
      "3355443\n",
      "tensor_name:  fc6/weights\n",
      "7549743\n",
      "tensor_name:  conv5_2/weights\n",
      "44236\n",
      "tensor_name:  conv5_1/weights\n",
      "44236\n",
      "tensor_name:  conv1/weights\n",
      "11616\n",
      "tensor_name:  conv2_1/weights\n",
      "151415\n",
      "tensor_name:  conv3/weights\n",
      "842863\n",
      "tensor_name:  conv4_2/weights\n",
      "66355\n",
      "tensor_name:  conv2_2/weights\n",
      "153341\n",
      "tensor_name:  fc8/weights\n",
      "40960\n",
      "tensor_name:  conv4_1/weights\n",
      "66355\n"
     ]
    },
    {
     "data": {
      "text/plain": [
       "12326563"
      ]
     },
     "execution_count": 28,
     "metadata": {},
     "output_type": "execute_result"
    }
   ],
   "source": [
    "count_nonzero_weights(ckpt_path)"
   ]
  }
 ],
 "metadata": {
  "kernelspec": {
   "display_name": "Python 3",
   "language": "python",
   "name": "python3"
  },
  "language_info": {
   "codemirror_mode": {
    "name": "ipython",
    "version": 3
   },
   "file_extension": ".py",
   "mimetype": "text/x-python",
   "name": "python",
   "nbconvert_exporter": "python",
   "pygments_lexer": "ipython3",
   "version": "3.6.7"
  }
 },
 "nbformat": 4,
 "nbformat_minor": 2
}
