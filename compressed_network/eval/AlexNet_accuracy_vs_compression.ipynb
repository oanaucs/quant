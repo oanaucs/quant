{
 "cells": [
  {
   "cell_type": "code",
   "execution_count": 4,
   "metadata": {},
   "outputs": [],
   "source": [
    "import numpy as np\n",
    "import matplotlib.pyplot as plt"
   ]
  },
  {
   "cell_type": "code",
   "execution_count": 5,
   "metadata": {},
   "outputs": [],
   "source": [
    "import pandas as pd\n",
    "from scipy.interpolate import make_interp_spline, BSpline, make_lsq_spline\n",
    "from scipy.optimize import curve_fit"
   ]
  },
  {
   "cell_type": "code",
   "execution_count": 6,
   "metadata": {},
   "outputs": [],
   "source": [
    "pruning_filename = './../eval_results/alexnet/eval_alexnet_pruning.csv'\n",
    "pruning_quant_filename = './../eval_results/alexnet/eval_alexnet_pruning_quant.csv'"
   ]
  },
  {
   "cell_type": "code",
   "execution_count": 7,
   "metadata": {},
   "outputs": [],
   "source": [
    "pruning_data = pd.read_csv(pruning_filename, decimal=',')\n",
    "pruning_quant_data = pd.read_csv(pruning_quant_filename, decimal=',')"
   ]
  },
  {
   "cell_type": "code",
   "execution_count": 8,
   "metadata": {},
   "outputs": [
    {
     "name": "stdout",
     "output_type": "stream",
     "text": [
      "   sparsity_level  accuracy  params_set_to_0  size_mb_after_huffman  \\\n",
      "0             0.0     0.662         56885962                  208.8   \n",
      "1             0.1     0.699         51320174                  195.8   \n",
      "2             0.2     0.704         45643001                  180.1   \n",
      "3             0.3     0.705         40077743                  162.7   \n",
      "4             0.4     0.705         34511007                  144.5   \n",
      "5             0.5     0.704         28947079                  126.5   \n",
      "6             0.6     0.706         23494555                  107.9   \n",
      "7             0.7     0.704         17906138                   87.9   \n",
      "8             0.8     0.701         12336115                   67.2   \n",
      "\n",
      "   avg_inference_time  compression_ratio  Unnamed: 6         flops  \\\n",
      "0                0.14           1.000000         NaN  1.102796e+10   \n",
      "1                0.15           1.066394         NaN           NaN   \n",
      "2                0.14           1.159356         NaN           NaN   \n",
      "3                0.14           1.283344         NaN           NaN   \n",
      "4                0.15           1.444983         NaN           NaN   \n",
      "5                0.15           1.650593         NaN           NaN   \n",
      "6                0.14           1.935125         NaN           NaN   \n",
      "7                0.13           2.375427         NaN           NaN   \n",
      "8                0.14           3.107143         NaN           NaN   \n",
      "\n",
      "   num_parameters  \n",
      "0      56885962.0  \n",
      "1             NaN  \n",
      "2             NaN  \n",
      "3             NaN  \n",
      "4             NaN  \n",
      "5             NaN  \n",
      "6             NaN  \n",
      "7             NaN  \n",
      "8             NaN  \n"
     ]
    }
   ],
   "source": [
    "print(pruning_data)"
   ]
  },
  {
   "cell_type": "code",
   "execution_count": 9,
   "metadata": {},
   "outputs": [],
   "source": [
    "pruning_data['accuracy_loss'] = pruning_data['accuracy']\n",
    "pruning_data['accuracy_loss'] -= pruning_data['accuracy'][0]"
   ]
  },
  {
   "cell_type": "code",
   "execution_count": 10,
   "metadata": {},
   "outputs": [
    {
     "name": "stdout",
     "output_type": "stream",
     "text": [
      "   bits  accuracy  size_mb_after_huffman  compression_ratio  avg_quant_time  \\\n",
      "0     4     0.701                   34.4           6.069767           11.96   \n",
      "1     5     0.703                   40.0           5.220000           22.35   \n",
      "2     6     0.706                   45.0           4.640000           43.31   \n",
      "3     7     0.705                   49.9           4.184369           85.03   \n",
      "4     8     0.706                   53.3           3.917448          170.34   \n",
      "\n",
      "   layer_quant_time  \n",
      "0             84.18  \n",
      "1            110.47  \n",
      "2            132.41  \n",
      "3            115.97  \n",
      "4            199.80  \n"
     ]
    }
   ],
   "source": [
    "print(pruning_quant_data)"
   ]
  },
  {
   "cell_type": "code",
   "execution_count": 12,
   "metadata": {},
   "outputs": [],
   "source": [
    "pruning_quant_data['accuracy_loss'] = pruning_quant_data['accuracy']\n",
    "pruning_quant_data['accuracy_loss'] = pruning_data['accuracy'][0] - pruning_quant_data['accuracy']"
   ]
  },
  {
   "cell_type": "code",
   "execution_count": 13,
   "metadata": {},
   "outputs": [
    {
     "name": "stdout",
     "output_type": "stream",
     "text": [
      "[0.    0.037 0.042 0.043 0.043 0.042 0.044 0.042 0.039]\n"
     ]
    }
   ],
   "source": [
    "print(pruning_data['accuracy_loss'].to_numpy())"
   ]
  },
  {
   "cell_type": "code",
   "execution_count": 13,
   "metadata": {},
   "outputs": [],
   "source": [
    "# accuracy_loss = pruning_data['accuracy_loss'].to_numpy()\n",
    "# compression_line =  pruning_data['Compression %'].to_numpy()\n",
    "\n",
    "# xnew = np.linspace(0, 10, 300) #300 represents number of points to make between T.min and T.max\n",
    "\n",
    "# spl = make_interp_spline(compression_line, accuracy_loss, k=2) #BSpline object\n",
    "# power_smooth = spl(xnew)\n",
    "\n",
    "# # plt.ylim((-1, 0.5))\n",
    "# plt.plot(xnew,power_smooth)\n",
    "# plt.plot(compression_line, accuracy_loss, 'bo')\n",
    "# plt.show()"
   ]
  },
  {
   "cell_type": "code",
   "execution_count": null,
   "metadata": {},
   "outputs": [],
   "source": []
  },
  {
   "cell_type": "code",
   "execution_count": 14,
   "metadata": {},
   "outputs": [],
   "source": [
    "# def func(x, a, b, c):\n",
    "#     return a * np.exp(b * x) + c\n",
    "# popt, pcov = curve_fit(func, accuracy_loss, compression_line)\n",
    "\n",
    "# vals = []\n",
    "# c = np.linspace(0, 0.5, 100)\n",
    "# for v in c:\n",
    "#     vals.append(func(v, *popt))\n",
    "    \n",
    "#     plt.xlim((-0.1, 0.1))\n",
    "# plt.ylim((0, 1.2))\n",
    "# # plt.plot(c, vals)\n",
    "# # plt.plot(accuracy_loss, compression_line, 'bo')"
   ]
  },
  {
   "cell_type": "code",
   "execution_count": null,
   "metadata": {},
   "outputs": [],
   "source": []
  },
  {
   "cell_type": "code",
   "execution_count": 24,
   "metadata": {},
   "outputs": [
    {
     "data": {
      "text/plain": [
       "<matplotlib.legend.Legend at 0x7f2b7f666c18>"
      ]
     },
     "execution_count": 24,
     "metadata": {},
     "output_type": "execute_result"
    },
    {
     "data": {
      "image/png": "[encoded data removed]",
      "text/plain": [
       "<Figure size 432x288 with 1 Axes>"
      ]
     },
     "metadata": {
      "needs_background": "light"
     },
     "output_type": "display_data"
    }
   ],
   "source": [
    "# plot points\n",
    "fig, ax = plt.subplots()\n",
    "\n",
    "ax.grid()\n",
    "plt.plot(pruning_data['compression_ratio'], pruning_data['accuracy_loss'], 'bo', color='green', label='pruning')\n",
    "plt.plot(pruning_quant_data['compression_ratio'], pruning_quant_data['accuracy_loss'], 'bo', color='red', label='pruning+quantization')\n",
    "plt.ylim((-0.1, 0.05))\n",
    "plt.xlabel('compression ratio')\n",
    "plt.ylabel('accuracy loss')\n",
    "plt.legend(bbox_to_anchor=(1.05, 1), loc='upper left', borderaxespad=0.)"
   ]
  },
  {
   "cell_type": "code",
   "execution_count": 26,
   "metadata": {},
   "outputs": [
    {
     "data": {
      "text/plain": [
       "<matplotlib.legend.Legend at 0x7f2b7f760048>"
      ]
     },
     "execution_count": 26,
     "metadata": {},
     "output_type": "execute_result"
    },
    {
     "data": {
      "image/png": "[encoded data removed]",
      "text/plain": [
       "<Figure size 432x288 with 1 Axes>"
      ]
     },
     "metadata": {
      "needs_background": "light"
     },
     "output_type": "display_data"
    }
   ],
   "source": [
    "# plot time step points\n",
    "fig, ax = plt.subplots()\n",
    "\n",
    "ax.grid()\n",
    "plt.plot(pruning_quant_data['avg_quant_time'], pruning_quant_data['bits'], 'bo', color='darkblue', label='average step time')\n",
    "plt.plot(pruning_quant_data['layer_quant_time'], pruning_quant_data['bits'], 'bo', color='orange', label='layer quantization time')\n",
    "plt.xlabel('time[s]')\n",
    "plt.ylabel('bits')\n",
    "plt.legend(bbox_to_anchor=(1.05, 1), loc='upper left', borderaxespad=0.)"
   ]
  },
  {
   "cell_type": "code",
   "execution_count": 27,
   "metadata": {},
   "outputs": [
    {
     "name": "stderr",
     "output_type": "stream",
     "text": [
      "/home/oanaucs/virtualenvs/py_3.6_tf_1.5/lib/python3.6/site-packages/ipykernel_launcher.py:5: RankWarning: Polyfit may be poorly conditioned\n",
      "  \"\"\"\n",
      "No handles with labels found to put in legend.\n"
     ]
    },
    {
     "data": {
      "text/plain": [
       "<matplotlib.legend.Legend at 0x7f2b7f98bac8>"
      ]
     },
     "execution_count": 27,
     "metadata": {},
     "output_type": "execute_result"
    },
    {
     "data": {
      "image/png": "[encoded data removed]",
      "text/plain": [
       "<Figure size 432x288 with 1 Axes>"
      ]
     },
     "metadata": {
      "needs_background": "light"
     },
     "output_type": "display_data"
    }
   ],
   "source": [
    "# plot points\n",
    "fig, ax = plt.subplots()\n",
    "\n",
    "ax.grid()\n",
    "poly = np.polyfit(pruning_data['sparsity_level'], pruning_data['compression_ratio'], 10)\n",
    "x = np.linspace(pruning_data['sparsity_level'].min(), pruning_data['sparsity_level'].max(), 100)\n",
    "p = np.poly1d(poly)\n",
    "plt.plot(x, p(x))\n",
    "plt.plot(pruning_data['sparsity_level'], pruning_data['compression_ratio'], 'bo', color='darkblue')\n",
    "plt.xlabel('sparsity level')\n",
    "plt.ylabel('compression ratio')\n",
    "plt.legend(bbox_to_anchor=(1.05, 1), loc='upper left', borderaxespad=0.)"
   ]
  },
  {
   "cell_type": "code",
   "execution_count": 29,
   "metadata": {},
   "outputs": [
    {
     "name": "stderr",
     "output_type": "stream",
     "text": [
      "No handles with labels found to put in legend.\n"
     ]
    },
    {
     "data": {
      "text/plain": [
       "<matplotlib.legend.Legend at 0x7f2b7f58d9b0>"
      ]
     },
     "execution_count": 29,
     "metadata": {},
     "output_type": "execute_result"
    },
    {
     "data": {
      "image/png": "[encoded data removed]",
      "text/plain": [
       "<Figure size 432x288 with 1 Axes>"
      ]
     },
     "metadata": {
      "needs_background": "light"
     },
     "output_type": "display_data"
    }
   ],
   "source": [
    "# plot points\n",
    "fig, ax = plt.subplots()\n",
    "\n",
    "ax.grid()\n",
    "poly = np.polyfit(pruning_data['sparsity_level'], pruning_data['accuracy_loss'], 6)\n",
    "x = np.linspace(pruning_data['sparsity_level'].min(), pruning_data['sparsity_level'].max(), 100)\n",
    "p = np.poly1d(poly)\n",
    "plt.plot(x, p(x))\n",
    "plt.plot(pruning_data['sparsity_level'], pruning_data['accuracy_loss'], 'bo', color='darkblue')\n",
    "plt.xlabel('sparsity level')\n",
    "plt.ylabel('accuracy loss')\n",
    "plt.legend(bbox_to_anchor=(1.05, 1), loc='upper left', borderaxespad=0.)"
   ]
  },
  {
   "cell_type": "code",
   "execution_count": 30,
   "metadata": {},
   "outputs": [],
   "source": [
    "threshold_filename = './../eval_results/alexnet/eval_alexnet_pruning_threshold.csv'\n",
    "threshold_data = pd.read_csv(threshold_filename, decimal=',')"
   ]
  },
  {
   "cell_type": "code",
   "execution_count": 31,
   "metadata": {},
   "outputs": [
    {
     "name": "stdout",
     "output_type": "stream",
     "text": [
      "   threshold  accuracy  params_set_to_0  size_mb_after_huffman  \\\n",
      "0      0.010     0.693         32630686                  138.4   \n",
      "1      0.020     0.684          8417456                   53.3   \n",
      "2      0.024     0.609          3624168                   30.2   \n",
      "3      0.300     0.102          1176849                   19.5   \n",
      "\n",
      "   compression_ratio  step_time  accuracy_loss  \n",
      "0           1.508671      0.140          0.031  \n",
      "1           3.917448      0.135          0.022  \n",
      "2           6.913907      0.150         -0.053  \n",
      "3          10.707692      0.150         -0.560  \n"
     ]
    }
   ],
   "source": [
    "threshold_data['accuracy_loss'] = threshold_data['accuracy']\n",
    "threshold_data['accuracy_loss'] -= pruning_data['accuracy'][0]\n",
    "print(threshold_data)"
   ]
  },
  {
   "cell_type": "code",
   "execution_count": 35,
   "metadata": {},
   "outputs": [
    {
     "name": "stderr",
     "output_type": "stream",
     "text": [
      "No handles with labels found to put in legend.\n"
     ]
    },
    {
     "data": {
      "text/plain": [
       "<matplotlib.legend.Legend at 0x7f2b7f3b0a58>"
      ]
     },
     "execution_count": 35,
     "metadata": {},
     "output_type": "execute_result"
    },
    {
     "data": {
      "image/png": "[encoded data removed]",
      "text/plain": [
       "<Figure size 432x288 with 1 Axes>"
      ]
     },
     "metadata": {
      "needs_background": "light"
     },
     "output_type": "display_data"
    }
   ],
   "source": [
    "# plot points\n",
    "fig, ax = plt.subplots()\n",
    "\n",
    "ax.grid()\n",
    "poly = np.polyfit(threshold_data['threshold'], threshold_data['accuracy_loss'], 2)\n",
    "x = np.linspace(threshold_data['threshold'].min(), threshold_data['threshold'].max(), 100)\n",
    "p = np.poly1d(poly)\n",
    "plt.plot(x, p(x))\n",
    "plt.plot(threshold_data['threshold'], threshold_data['accuracy_loss'], 'bo', color='darkblue')\n",
    "plt.xlabel('threshold value')\n",
    "plt.ylabel('accuracy loss')\n",
    "plt.legend(bbox_to_anchor=(1.05, 1), loc='upper left', borderaxespad=0.)"
   ]
  }
 ],
 "metadata": {
  "kernelspec": {
   "display_name": "Python 3",
   "language": "python",
   "name": "python3"
  },
  "language_info": {
   "codemirror_mode": {
    "name": "ipython",
    "version": 3
   },
   "file_extension": ".py",
   "mimetype": "text/x-python",
   "name": "python",
   "nbconvert_exporter": "python",
   "pygments_lexer": "ipython3",
   "version": "3.6.7"
  }
 },
 "nbformat": 4,
 "nbformat_minor": 2
}
