{
 "cells": [
  {
   "cell_type": "markdown",
   "metadata": {
    "collapsed": true
   },
   "source": [
    "# Layerwise evaluation on MNIST"
   ]
  },
  {
   "cell_type": "markdown",
   "metadata": {},
   "source": [
    "## MNIST Dataset Overview\n",
    "\n",
    "The dataset contains 60,000 examples for training and 10,000 examples for testing. The digits have been size-normalized and centered in a fixed-size image (28x28 pixels) with values from 0 to 1. For simplicity, each image has been flattened and converted to a 1-D numpy array of 784 features (28*28).\n",
    "\n",
    "![MNIST Dataset](http://neuralnetworksanddeeplearning.com/images/mnist_100_digits.png)\n",
    "\n",
    "More info: http://yann.lecun.com/exdb/mnist/"
   ]
  },
  {
   "cell_type": "code",
   "execution_count": 1,
   "metadata": {},
   "outputs": [],
   "source": [
    "import tensorflow as tf\n",
    "from tensorflow.python.tools import inspect_checkpoint\n",
    "from tensorflow.python import pywrap_tensorflow\n",
    "\n",
    "import numpy as np\n",
    "import matplotlib.pyplot as plt\n",
    "\n",
    "import seaborn as sns"
   ]
  },
  {
   "cell_type": "code",
   "execution_count": 2,
   "metadata": {},
   "outputs": [],
   "source": [
    "def load_variables(file_name):\n",
    "    reader = pywrap_tensorflow.NewCheckpointReader(file_name)\n",
    "    var_to_shape_map = reader.get_variable_to_shape_map()\n",
    "    var_values = dict()\n",
    "    for key in sorted(var_to_shape_map):\n",
    "        print(\"tensor_name: \", key)\n",
    "#         print(reader.get_tensor(key))\n",
    "        var_values.update({key: reader.get_tensor(key)})\n",
    "    return var_values"
   ]
  },
  {
   "cell_type": "code",
   "execution_count": 5,
   "metadata": {},
   "outputs": [],
   "source": [
    "# set checkpoint path\n",
    "\n",
    "ckpt_path = '/media/oanaucs/Data/awp_trained_models/mnist_prune_0.01/model.ckpt-22821'"
   ]
  },
  {
   "cell_type": "code",
   "execution_count": 6,
   "metadata": {
    "scrolled": false
   },
   "outputs": [
    {
     "name": "stdout",
     "output_type": "stream",
     "text": [
      "tensor_name:  conv1/biases\n",
      "tensor_name:  conv1/weights\n",
      "tensor_name:  conv2/biases\n",
      "tensor_name:  conv2/weights\n",
      "tensor_name:  fc3/biases\n",
      "tensor_name:  fc3/weights\n",
      "tensor_name:  logits/biases\n",
      "tensor_name:  logits/weights\n"
     ]
    }
   ],
   "source": [
    "variables = load_variables(ckpt_path)"
   ]
  },
  {
   "cell_type": "code",
   "execution_count": 7,
   "metadata": {},
   "outputs": [],
   "source": [
    "tensors_to_inspect = ['conv1/weights',  'conv2/weights', 'fc3/weights']"
   ]
  },
  {
   "cell_type": "code",
   "execution_count": 8,
   "metadata": {},
   "outputs": [],
   "source": [
    "subplots_dir = './../eval_results/mnist/plots'\n",
    "subplots_prefix = 'init_layers_hist'\n",
    "subplots_postfix = '.png'"
   ]
  },
  {
   "cell_type": "code",
   "execution_count": null,
   "metadata": {
    "scrolled": false
   },
   "outputs": [],
   "source": [
    "# f,a = plt.subplots(1,3, figsize=(15,5))\n",
    "# a = a.ravel()\n",
    "\n",
    "# for idx,ax in enumerate(a):\n",
    "#     ax.hist(np.asarray(variables[tensors_to_inspect[idx]]).flatten())\n",
    "#     ax.set_title(tensors_to_inspect[idx])\n",
    "# plt.tight_layout()\n",
    "\n",
    "# plt.savefig(subplots_dir + subplots_prefix + subplots_postfix)"
   ]
  },
  {
   "cell_type": "code",
   "execution_count": null,
   "metadata": {},
   "outputs": [],
   "source": [
    "threshold = 0.05\n",
    "subplots_threshold_filename = subplots_dir + subplots_prefix + 'num_' + str(threshold) + subplots_postfix"
   ]
  },
  {
   "cell_type": "code",
   "execution_count": null,
   "metadata": {},
   "outputs": [],
   "source": [
    "# f,a = plt.subplots(1,3, figsize=(15,5))\n",
    "# a = a.ravel()\n",
    "\n",
    "# for idx,ax in enumerate(a):\n",
    "#     weights = np.asarray(variables[tensors_to_inspect[idx]]).flatten()\n",
    "# #     threshold_idx = int(threshold * weights.size)\n",
    "# #     threshold_val = np.abs(weights[threshold_idx])\n",
    "#     threshold_val = threshold\n",
    "#     n, _, _ = ax.hist(weights)\n",
    "#     ax.plot([threshold_val, threshold_val], [0, np.max(n)], linestyle='-', color='orange')\n",
    "#     ax.plot([-threshold_val, -threshold_val], [0, np.max(n)], linestyle='-', color='orange')\n",
    "#     ax.set_title(tensors_to_inspect[idx])\n",
    "# plt.tight_layout()\n",
    "\n",
    "# plt.savefig(subplots_threshold_filename)"
   ]
  },
  {
   "cell_type": "code",
   "execution_count": 19,
   "metadata": {},
   "outputs": [],
   "source": [
    "sparse_ckpt_path = '/media/oanaucs/Data/awp_trained_models/mnist_sparsity/0.8_pruned_model.ckpt-30521'"
   ]
  },
  {
   "cell_type": "code",
   "execution_count": 20,
   "metadata": {},
   "outputs": [
    {
     "name": "stdout",
     "output_type": "stream",
     "text": [
      "tensor_name:  conv1/biases\n",
      "tensor_name:  conv1/weights\n",
      "tensor_name:  conv2/biases\n",
      "tensor_name:  conv2/weights\n",
      "tensor_name:  fc3/biases\n",
      "tensor_name:  fc3/weights\n",
      "tensor_name:  logits/biases\n",
      "tensor_name:  logits/weights\n"
     ]
    }
   ],
   "source": [
    "sparse_variables = load_variables(sparse_ckpt_path)"
   ]
  },
  {
   "cell_type": "code",
   "execution_count": 28,
   "metadata": {},
   "outputs": [
    {
     "data": {
      "text/plain": [
       "Text(0.5, 1.0, 'fc3/weights')"
      ]
     },
     "execution_count": 28,
     "metadata": {},
     "output_type": "execute_result"
    },
    {
     "data": {
      "image/png": "[encoded data removed]",
      "text/plain": [
       "<Figure size 720x720 with 1 Axes>"
      ]
     },
     "metadata": {
      "needs_background": "light"
     },
     "output_type": "display_data"
    }
   ],
   "source": [
    "plt.figure(figsize=(10,10))\n",
    "idx = 2\n",
    "weights = np.asarray(variables[tensors_to_inspect[idx]]).flatten()\n",
    "sparse_weights = np.asarray(sparse_variables[tensors_to_inspect[idx]]).flatten()\n",
    "sns.distplot(weights, hist=False)\n",
    "sns.distplot(sparse_weights, hist=False)\n",
    "plt.title(tensors_to_inspect[idx])"
   ]
  }
 ],
 "metadata": {
  "anaconda-cloud": {},
  "kernelspec": {
   "display_name": "Python 3",
   "language": "python",
   "name": "python3"
  },
  "language_info": {
   "codemirror_mode": {
    "name": "ipython",
    "version": 3
   },
   "file_extension": ".py",
   "mimetype": "text/x-python",
   "name": "python",
   "nbconvert_exporter": "python",
   "pygments_lexer": "ipython3",
   "version": "3.6.7"
  }
 },
 "nbformat": 4,
 "nbformat_minor": 1
}
