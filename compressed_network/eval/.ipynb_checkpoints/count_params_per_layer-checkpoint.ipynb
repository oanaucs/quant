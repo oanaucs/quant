{
 "cells": [
  {
   "cell_type": "code",
   "execution_count": 1,
   "metadata": {},
   "outputs": [],
   "source": [
    "import sys\n",
    "import tensorflow as tf\n",
    "import numpy as np\n"
   ]
  },
  {
   "cell_type": "code",
   "execution_count": 13,
   "metadata": {},
   "outputs": [],
   "source": [
    "ckpt_path = '/media/oanaucs/Data/awp_trained_models/alexnet_fmnist_s0.5/model.ckpt-3728'\n",
    "num_size = 32 #bits"
   ]
  },
  {
   "cell_type": "code",
   "execution_count": 14,
   "metadata": {},
   "outputs": [],
   "source": [
    "def count_nonzero_weights(ckpt_path):\n",
    "\n",
    "    reader = tf.train.NewCheckpointReader(ckpt_path)\n",
    "\n",
    "    print('\\nCount the number of parameters in ckpt file(%s)' % ckpt_path)\n",
    "    param_map = reader.get_variable_to_shape_map()\n",
    "\n",
    "    non_zero_count = 0\n",
    "\n",
    "    for key in param_map:\n",
    "        if \"Adam\" not in key:\n",
    "            print(\"tensor_name: \", key)\n",
    "            tensor = reader.get_tensor(key)\n",
    "            non_zero_count += np.count_nonzero(tensor)\n",
    "            print(np.count_nonzero(tensor))\n",
    "            print(non_zero_count * num_size / 8 / 1024 / 1024)\n",
    "    \n",
    "    return non_zero_count\n"
   ]
  },
  {
   "cell_type": "code",
   "execution_count": 15,
   "metadata": {},
   "outputs": [
    {
     "name": "stdout",
     "output_type": "stream",
     "text": [
      "\n",
      "Count the number of parameters in ckpt file(/media/oanaucs/Data/awp_trained_models/mnist_sparsity/0.8_pruned_model.ckpt-30521)\n",
      "tensor_name:  logits/weights\n",
      "10240\n",
      "0.0390625\n",
      "tensor_name:  fc3/weights\n",
      "642252\n",
      "2.4890594482421875\n",
      "tensor_name:  conv2/weights\n",
      "10239\n",
      "2.528118133544922\n",
      "tensor_name:  conv2/biases\n",
      "64\n",
      "2.528362274169922\n",
      "tensor_name:  logits/biases\n",
      "10\n",
      "2.528400421142578\n",
      "tensor_name:  fc3/biases\n",
      "1003\n",
      "2.5322265625\n",
      "tensor_name:  conv1/weights\n",
      "159\n",
      "2.5328330993652344\n",
      "tensor_name:  conv1/biases\n",
      "32\n",
      "2.5329551696777344\n"
     ]
    },
    {
     "data": {
      "text/plain": [
       "663999"
      ]
     },
     "execution_count": 15,
     "metadata": {},
     "output_type": "execute_result"
    }
   ],
   "source": [
    "count_nonzero_weights(ckpt_path)"
   ]
  }
 ],
 "metadata": {
  "kernelspec": {
   "display_name": "Python 3",
   "language": "python",
   "name": "python3"
  },
  "language_info": {
   "codemirror_mode": {
    "name": "ipython",
    "version": 3
   },
   "file_extension": ".py",
   "mimetype": "text/x-python",
   "name": "python",
   "nbconvert_exporter": "python",
   "pygments_lexer": "ipython3",
   "version": "3.6.7"
  }
 },
 "nbformat": 4,
 "nbformat_minor": 2
}
