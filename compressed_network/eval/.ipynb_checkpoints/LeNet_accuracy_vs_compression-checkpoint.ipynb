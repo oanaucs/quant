{
 "cells": [
  {
   "cell_type": "code",
   "execution_count": 1,
   "metadata": {},
   "outputs": [],
   "source": [
    "import numpy as np\n",
    "import matplotlib.pyplot as plt"
   ]
  },
  {
   "cell_type": "code",
   "execution_count": 3,
   "metadata": {},
   "outputs": [],
   "source": [
    "import pandas as pd\n",
    "from scipy.interpolate import make_interp_spline, BSpline, make_lsq_spline\n",
    "from scipy.optimize import curve_fit"
   ]
  },
  {
   "cell_type": "code",
   "execution_count": 17,
   "metadata": {},
   "outputs": [],
   "source": [
    "pruning_filename = './../eval_results/mnist/eval_mnist_pruning.csv'\n",
    "pruning_quant_filename = './../eval_results/mnist/eval_mnist_pruning_quant.csv'\n",
    "quant_filename = './../eval_results/mnist/eval_mnist_quant.csv'"
   ]
  },
  {
   "cell_type": "code",
   "execution_count": null,
   "metadata": {},
   "outputs": [],
   "source": []
  },
  {
   "cell_type": "code",
   "execution_count": 18,
   "metadata": {},
   "outputs": [],
   "source": [
    "pruning_data = pd.read_csv(pruning_filename, decimal=',')\n",
    "pruning_quant_data = pd.read_csv(pruning_quant_filename, decimal=',')\n",
    "quant_data = pd.read_csv(quant_filename, decimal=',')"
   ]
  },
  {
   "cell_type": "code",
   "execution_count": 19,
   "metadata": {},
   "outputs": [
    {
     "name": "stdout",
     "output_type": "stream",
     "text": [
      "    sparsity_level  accuracy  params_set_to_0  size_mb_after_huffman  \\\n",
      "0             0.00     0.968          3274588                 12.100   \n",
      "1             0.10     0.968          2948261                 11.300   \n",
      "2             0.20     0.971          2621938                 10.300   \n",
      "3             0.30     0.965          2295611                  9.200   \n",
      "4             0.40     0.966          1969288                  8.100   \n",
      "5             0.50     0.969          1642966                  7.000   \n",
      "6             0.60     0.965          1316643                  5.800   \n",
      "7             0.70     0.953           990322                  4.600   \n",
      "8             0.80     0.934           663999                  3.200   \n",
      "9             0.84     0.740           533474                  2.700   \n",
      "10            0.90     0.380           337687                  1.800   \n",
      "11            0.98     0.234            76633                  0.502   \n",
      "\n",
      "    avg_inference_time  compression_ratio  Unnamed: 6         flops  \\\n",
      "0                0.024           1.000000         NaN  2.790959e+09   \n",
      "1                0.024           1.070796         NaN           NaN   \n",
      "2                0.024           1.174757         NaN           NaN   \n",
      "3                0.024           1.315217         NaN           NaN   \n",
      "4                0.024           1.271605         NaN           NaN   \n",
      "5                0.024           1.728571         NaN           NaN   \n",
      "6                0.024           2.086207         NaN           NaN   \n",
      "7                0.024           2.630435         NaN           NaN   \n",
      "8                0.024           3.781250         NaN           NaN   \n",
      "9                0.024           4.481481         NaN           NaN   \n",
      "10               0.024           6.722222         NaN           NaN   \n",
      "11               0.024          24.103586         NaN           NaN   \n",
      "\n",
      "    num_parameters  \n",
      "0        3274634.0  \n",
      "1              NaN  \n",
      "2              NaN  \n",
      "3              NaN  \n",
      "4              NaN  \n",
      "5              NaN  \n",
      "6              NaN  \n",
      "7              NaN  \n",
      "8              NaN  \n",
      "9              NaN  \n",
      "10             NaN  \n",
      "11             NaN  \n"
     ]
    }
   ],
   "source": [
    "print(pruning_data)"
   ]
  },
  {
   "cell_type": "code",
   "execution_count": 20,
   "metadata": {},
   "outputs": [],
   "source": [
    "pruning_data['accuracy_loss'] = pruning_data['accuracy']\n",
    "pruning_data['accuracy_loss'] -= pruning_data['accuracy'][0]"
   ]
  },
  {
   "cell_type": "code",
   "execution_count": 7,
   "metadata": {},
   "outputs": [],
   "source": [
    "# pruning_data = pruning_data.sort_values('Compression %')\n",
    "# print(pruning_data)"
   ]
  },
  {
   "cell_type": "code",
   "execution_count": 21,
   "metadata": {},
   "outputs": [
    {
     "name": "stdout",
     "output_type": "stream",
     "text": [
      "   bits  accuracy  size_mb_after_huffman  quant_time  avg_step_time  \\\n",
      "0     2     0.665                    1.2        3.48           1.42   \n",
      "1     3     0.893                    1.8        5.35           2.13   \n",
      "2     4     0.963                    2.2        9.03           3.33   \n",
      "3     5     0.951                    2.5       12.01           5.84   \n",
      "4     6     0.964                    2.8       19.68          10.45   \n",
      "5     7     0.967                    3.1       35.04          19.53   \n",
      "6     8     0.963                    3.3       67.27          38.61   \n",
      "\n",
      "   compression_ratio  \n",
      "0          10.083333  \n",
      "1           6.722222  \n",
      "2           5.500000  \n",
      "3           4.840000  \n",
      "4           4.321429  \n",
      "5           3.903226  \n",
      "6           3.666667  \n"
     ]
    }
   ],
   "source": [
    "print(pruning_quant_data)"
   ]
  },
  {
   "cell_type": "code",
   "execution_count": 22,
   "metadata": {},
   "outputs": [],
   "source": [
    "pruning_quant_data['accuracy_loss'] = pruning_quant_data['accuracy']\n",
    "pruning_quant_data['accuracy_loss'] = pruning_data['accuracy'][0] - pruning_quant_data['accuracy']"
   ]
  },
  {
   "cell_type": "code",
   "execution_count": 23,
   "metadata": {},
   "outputs": [
    {
     "name": "stdout",
     "output_type": "stream",
     "text": [
      "[ 0.     0.     0.003 -0.003 -0.002  0.001 -0.003 -0.015 -0.034 -0.228\n",
      " -0.588 -0.734]\n"
     ]
    }
   ],
   "source": [
    "print(pruning_data['accuracy_loss'].to_numpy())"
   ]
  },
  {
   "cell_type": "code",
   "execution_count": 24,
   "metadata": {},
   "outputs": [],
   "source": [
    "quant_data['accuracy_loss'] = quant_data['accuracy']\n",
    "quant_data['accuracy_loss'] = pruning_data['accuracy'][0] - quant_data['accuracy']"
   ]
  },
  {
   "cell_type": "code",
   "execution_count": 25,
   "metadata": {},
   "outputs": [
    {
     "name": "stdout",
     "output_type": "stream",
     "text": [
      "   bits  accuracy  size_mb_after_huffman  quant_time  avg_step_time  \\\n",
      "0     4     0.955                    2.4        8.23           3.67   \n",
      "1     5     0.964                    2.9       10.82           6.21   \n",
      "2     6     0.967                    3.3       17.69          10.86   \n",
      "3     7     0.951                    4.3       31.32          16.70   \n",
      "4     8     0.967                    4.9       60.24          38.79   \n",
      "\n",
      "   compression_ratio  accuracy_loss  \n",
      "0           3.297003          0.013  \n",
      "1           1.948470          0.004  \n",
      "2           1.114180          0.001  \n",
      "3           0.724551          0.017  \n",
      "4           0.311936          0.001  \n"
     ]
    }
   ],
   "source": [
    "print(quant_data)"
   ]
  },
  {
   "cell_type": "code",
   "execution_count": 13,
   "metadata": {},
   "outputs": [],
   "source": [
    "# accuracy_loss = pruning_data['accuracy_loss'].to_numpy()\n",
    "# compression_line =  pruning_data['Compression %'].to_numpy()\n",
    "\n",
    "# xnew = np.linspace(0, 10, 300) #300 represents number of points to make between T.min and T.max\n",
    "\n",
    "# spl = make_interp_spline(compression_line, accuracy_loss, k=2) #BSpline object\n",
    "# power_smooth = spl(xnew)\n",
    "\n",
    "# # plt.ylim((-1, 0.5))\n",
    "# plt.plot(xnew,power_smooth)\n",
    "# plt.plot(compression_line, accuracy_loss, 'bo')\n",
    "# plt.show()"
   ]
  },
  {
   "cell_type": "code",
   "execution_count": null,
   "metadata": {},
   "outputs": [],
   "source": []
  },
  {
   "cell_type": "code",
   "execution_count": 14,
   "metadata": {},
   "outputs": [],
   "source": [
    "# def func(x, a, b, c):\n",
    "#     return a * np.exp(b * x) + c\n",
    "# popt, pcov = curve_fit(func, accuracy_loss, compression_line)\n",
    "\n",
    "# vals = []\n",
    "# c = np.linspace(0, 0.5, 100)\n",
    "# for v in c:\n",
    "#     vals.append(func(v, *popt))\n",
    "    \n",
    "#     plt.xlim((-0.1, 0.1))\n",
    "# plt.ylim((0, 1.2))\n",
    "# # plt.plot(c, vals)\n",
    "# # plt.plot(accuracy_loss, compression_line, 'bo')"
   ]
  },
  {
   "cell_type": "code",
   "execution_count": null,
   "metadata": {},
   "outputs": [],
   "source": []
  },
  {
   "cell_type": "code",
   "execution_count": 26,
   "metadata": {},
   "outputs": [
    {
     "data": {
      "text/plain": [
       "<matplotlib.legend.Legend at 0x7f6815aefa90>"
      ]
     },
     "execution_count": 26,
     "metadata": {},
     "output_type": "execute_result"
    },
    {
     "data": {
      "image/png": "[encoded data removed]",
      "text/plain": [
       "<Figure size 432x288 with 1 Axes>"
      ]
     },
     "metadata": {
      "needs_background": "light"
     },
     "output_type": "display_data"
    }
   ],
   "source": [
    "# plot points\n",
    "fig, ax = plt.subplots()\n",
    "\n",
    "ax.grid()\n",
    "plt.plot(pruning_data['compression_ratio'], pruning_data['accuracy_loss'], 'bo', color='green', label='pruning')\n",
    "plt.plot(pruning_quant_data['compression_ratio'], pruning_quant_data['accuracy_loss'], 'bo', color='red', label='pruning+quantization')\n",
    "plt.plot(quant_data['compression_ratio'], quant_data['accuracy_loss'], 'bo', color='orange', label='quantization')\n",
    "plt.legend(bbox_to_anchor=(1.05, 1), loc='upper left', borderaxespad=0.)"
   ]
  },
  {
   "cell_type": "code",
   "execution_count": 16,
   "metadata": {},
   "outputs": [
    {
     "name": "stderr",
     "output_type": "stream",
     "text": [
      "/home/oanaucs/virtualenvs/py_3.6_tf_1.5/lib/python3.6/site-packages/ipykernel_launcher.py:1: RankWarning: Polyfit may be poorly conditioned\n",
      "  \"\"\"Entry point for launching an IPython kernel.\n"
     ]
    },
    {
     "data": {
      "text/plain": [
       "[<matplotlib.lines.Line2D at 0x7f1f5ef2b240>]"
      ]
     },
     "execution_count": 16,
     "metadata": {},
     "output_type": "execute_result"
    },
    {
     "data": {
      "image/png": "[encoded data removed]",
      "text/plain": [
       "<Figure size 432x288 with 1 Axes>"
      ]
     },
     "metadata": {
      "needs_background": "light"
     },
     "output_type": "display_data"
    }
   ],
   "source": [
    "poly = np.polyfit(pruning_data['compression_ratio'], pruning_data['accuracy_loss'], 7)\n",
    "x = np.linspace(pruning_data['Compression %'].min(), pruning_data['Compression %'].max(), 100)\n",
    "p = np.poly1d(poly)\n",
    "plt.figure()\n",
    "plt.plot(x, p(x))\n",
    "plt.plot(pruning_data['Compression %'], pruning_data['accuracy_loss'], 'bo')\n"
   ]
  },
  {
   "cell_type": "code",
   "execution_count": 18,
   "metadata": {},
   "outputs": [
    {
     "name": "stderr",
     "output_type": "stream",
     "text": [
      "/home/oanaucs/virtualenvs/py_3.6_tf_1.5/lib/python3.6/site-packages/ipykernel_launcher.py:1: RankWarning: Polyfit may be poorly conditioned\n",
      "  \"\"\"Entry point for launching an IPython kernel.\n"
     ]
    },
    {
     "data": {
      "text/plain": [
       "[<matplotlib.lines.Line2D at 0x7f1f5e7a22b0>]"
      ]
     },
     "execution_count": 18,
     "metadata": {},
     "output_type": "execute_result"
    },
    {
     "data": {
      "image/png": "[encoded data removed]",
      "text/plain": [
       "<Figure size 432x288 with 1 Axes>"
      ]
     },
     "metadata": {
      "needs_background": "light"
     },
     "output_type": "display_data"
    }
   ],
   "source": [
    "poly = np.polyfit(quant_data['Compression %'], quant_data['accuracy_loss'], 7)\n",
    "x = np.linspace(quant_data['Compression %'].min(), quant_data['Compression %'].max(), 100)\n",
    "p = np.poly1d(poly)\n",
    "plt.figure()\n",
    "plt.plot(x, p(x))\n",
    "plt.plot(quant_data['Compression %'], quant_data['accuracy_loss'], 'bo')\n"
   ]
  }
 ],
 "metadata": {
  "kernelspec": {
   "display_name": "Python 3",
   "language": "python",
   "name": "python3"
  },
  "language_info": {
   "codemirror_mode": {
    "name": "ipython",
    "version": 3
   },
   "file_extension": ".py",
   "mimetype": "text/x-python",
   "name": "python",
   "nbconvert_exporter": "python",
   "pygments_lexer": "ipython3",
   "version": "3.6.7"
  }
 },
 "nbformat": 4,
 "nbformat_minor": 2
}
